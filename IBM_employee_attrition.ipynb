{
 "cells": [
  {
   "cell_type": "code",
   "execution_count": 3,
   "id": "188317e3-69c0-4eed-844b-9ebb89f3f476",
   "metadata": {},
   "outputs": [],
   "source": [
    "import numpy as np \n",
    "import pandas as pd \n",
    "import tensorflow as tf\n",
    "import matplotlib.pyplot as plt\n",
    "%matplotlib inline\n",
    "from patsy import dmatrices\n",
    "import sklearn\n",
    "import seaborn as sns\n",
    "from matplotlib import style"
   ]
  },
  {
   "cell_type": "code",
   "execution_count": 18,
   "id": "0e858a8d-5691-491e-9795-5d0255e4568c",
   "metadata": {
    "tags": []
   },
   "outputs": [],
   "source": [
    "dataframe= pd.read_csv(\"Desktop/Ibm attrition data/1576148666_ibmattritiondata/IBM Attrition Data.csv\")"
   ]
  },
  {
   "cell_type": "code",
   "execution_count": 19,
   "id": "f05855a2-31fb-41d5-99ac-a4200c4957e8",
   "metadata": {},
   "outputs": [],
   "source": [
    "df = dataframe"
   ]
  },
  {
   "cell_type": "code",
   "execution_count": 20,
   "id": "40924f32-9bf6-4fd5-97dd-c86daa89e02e",
   "metadata": {},
   "outputs": [
    {
     "data": {
      "text/html": [
       "<div>\n",
       "<style scoped>\n",
       "    .dataframe tbody tr th:only-of-type {\n",
       "        vertical-align: middle;\n",
       "    }\n",
       "\n",
       "    .dataframe tbody tr th {\n",
       "        vertical-align: top;\n",
       "    }\n",
       "\n",
       "    .dataframe thead th {\n",
       "        text-align: right;\n",
       "    }\n",
       "</style>\n",
       "<table border=\"1\" class=\"dataframe\">\n",
       "  <thead>\n",
       "    <tr style=\"text-align: right;\">\n",
       "      <th></th>\n",
       "      <th>Age</th>\n",
       "      <th>Attrition</th>\n",
       "      <th>Department</th>\n",
       "      <th>DistanceFromHome</th>\n",
       "      <th>Education</th>\n",
       "      <th>EducationField</th>\n",
       "      <th>EnvironmentSatisfaction</th>\n",
       "      <th>JobSatisfaction</th>\n",
       "      <th>MaritalStatus</th>\n",
       "      <th>MonthlyIncome</th>\n",
       "      <th>NumCompaniesWorked</th>\n",
       "      <th>WorkLifeBalance</th>\n",
       "      <th>YearsAtCompany</th>\n",
       "    </tr>\n",
       "  </thead>\n",
       "  <tbody>\n",
       "    <tr>\n",
       "      <th>0</th>\n",
       "      <td>41</td>\n",
       "      <td>Yes</td>\n",
       "      <td>Sales</td>\n",
       "      <td>1</td>\n",
       "      <td>2</td>\n",
       "      <td>Life Sciences</td>\n",
       "      <td>2</td>\n",
       "      <td>4</td>\n",
       "      <td>Single</td>\n",
       "      <td>5993</td>\n",
       "      <td>8</td>\n",
       "      <td>1</td>\n",
       "      <td>6</td>\n",
       "    </tr>\n",
       "    <tr>\n",
       "      <th>1</th>\n",
       "      <td>49</td>\n",
       "      <td>No</td>\n",
       "      <td>Research &amp; Development</td>\n",
       "      <td>8</td>\n",
       "      <td>1</td>\n",
       "      <td>Life Sciences</td>\n",
       "      <td>3</td>\n",
       "      <td>2</td>\n",
       "      <td>Married</td>\n",
       "      <td>5130</td>\n",
       "      <td>1</td>\n",
       "      <td>3</td>\n",
       "      <td>10</td>\n",
       "    </tr>\n",
       "    <tr>\n",
       "      <th>2</th>\n",
       "      <td>37</td>\n",
       "      <td>Yes</td>\n",
       "      <td>Research &amp; Development</td>\n",
       "      <td>2</td>\n",
       "      <td>2</td>\n",
       "      <td>Other</td>\n",
       "      <td>4</td>\n",
       "      <td>3</td>\n",
       "      <td>Single</td>\n",
       "      <td>2090</td>\n",
       "      <td>6</td>\n",
       "      <td>3</td>\n",
       "      <td>0</td>\n",
       "    </tr>\n",
       "    <tr>\n",
       "      <th>3</th>\n",
       "      <td>33</td>\n",
       "      <td>No</td>\n",
       "      <td>Research &amp; Development</td>\n",
       "      <td>3</td>\n",
       "      <td>4</td>\n",
       "      <td>Life Sciences</td>\n",
       "      <td>4</td>\n",
       "      <td>3</td>\n",
       "      <td>Married</td>\n",
       "      <td>2909</td>\n",
       "      <td>1</td>\n",
       "      <td>3</td>\n",
       "      <td>8</td>\n",
       "    </tr>\n",
       "    <tr>\n",
       "      <th>4</th>\n",
       "      <td>27</td>\n",
       "      <td>No</td>\n",
       "      <td>Research &amp; Development</td>\n",
       "      <td>2</td>\n",
       "      <td>1</td>\n",
       "      <td>Medical</td>\n",
       "      <td>1</td>\n",
       "      <td>2</td>\n",
       "      <td>Married</td>\n",
       "      <td>3468</td>\n",
       "      <td>9</td>\n",
       "      <td>3</td>\n",
       "      <td>2</td>\n",
       "    </tr>\n",
       "  </tbody>\n",
       "</table>\n",
       "</div>"
      ],
      "text/plain": [
       "   Age Attrition              Department  DistanceFromHome  Education  \\\n",
       "0   41       Yes                   Sales                 1          2   \n",
       "1   49        No  Research & Development                 8          1   \n",
       "2   37       Yes  Research & Development                 2          2   \n",
       "3   33        No  Research & Development                 3          4   \n",
       "4   27        No  Research & Development                 2          1   \n",
       "\n",
       "  EducationField  EnvironmentSatisfaction  JobSatisfaction MaritalStatus  \\\n",
       "0  Life Sciences                        2                4        Single   \n",
       "1  Life Sciences                        3                2       Married   \n",
       "2          Other                        4                3        Single   \n",
       "3  Life Sciences                        4                3       Married   \n",
       "4        Medical                        1                2       Married   \n",
       "\n",
       "   MonthlyIncome  NumCompaniesWorked  WorkLifeBalance  YearsAtCompany  \n",
       "0           5993                   8                1               6  \n",
       "1           5130                   1                3              10  \n",
       "2           2090                   6                3               0  \n",
       "3           2909                   1                3               8  \n",
       "4           3468                   9                3               2  "
      ]
     },
     "execution_count": 20,
     "metadata": {},
     "output_type": "execute_result"
    }
   ],
   "source": [
    "df.head()"
   ]
  },
  {
   "cell_type": "code",
   "execution_count": 21,
   "id": "7695a740-a5c5-4914-b530-d96622b38055",
   "metadata": {},
   "outputs": [
    {
     "name": "stdout",
     "output_type": "stream",
     "text": [
      "['Age' 'Attrition' 'Department' 'DistanceFromHome' 'Education'\n",
      " 'EducationField' 'EnvironmentSatisfaction' 'JobSatisfaction'\n",
      " 'MaritalStatus' 'MonthlyIncome' 'NumCompaniesWorked' 'WorkLifeBalance'\n",
      " 'YearsAtCompany']\n"
     ]
    }
   ],
   "source": [
    "names= df.columns.values\n",
    "print(names)"
   ]
  },
  {
   "cell_type": "code",
   "execution_count": 26,
   "id": "11e98501-9bef-4bcf-8853-bb5e7081f135",
   "metadata": {},
   "outputs": [
    {
     "data": {
      "image/png": "[encoded data removed]",
      "text/plain": [
       "<Figure size 900x900 with 1 Axes>"
      ]
     },
     "metadata": {},
     "output_type": "display_data"
    }
   ],
   "source": [
    "plt.figure(figsize=(9,9))\n",
    "dataframe[\"Age\"].hist(bins=80)\n",
    "plt.title(\"Age distribution of employees\")\n",
    "plt.xlabel(\"Age\")\n",
    "plt.ylabel(\"Number of Employees\")\n",
    "plt.show()\n"
   ]
  },
  {
   "cell_type": "code",
   "execution_count": 84,
   "id": "ca787a62-f848-48c8-9a0b-be277453f59d",
   "metadata": {},
   "outputs": [
    {
     "data": {
      "image/png": "[encoded data removed]",
      "text/plain": [
       "<Figure size 1400x1000 with 1 Axes>"
      ]
     },
     "metadata": {},
     "output_type": "display_data"
    }
   ],
   "source": [
    "plt.figure(figsize=(14,10))\n",
    "plt.scatter(dataframe.Attrition,dataframe.Age,alpha=.55)\n",
    "plt.title(\"Attrition by Age\")\n",
    "plt.ylabel(\"Age\")\n",
    "plt.grid()\n",
    "plt.show()"
   ]
  },
  {
   "cell_type": "code",
   "execution_count": 87,
   "id": "a474f1e8-0940-4438-bf35-b592835b1c54",
   "metadata": {},
   "outputs": [
    {
     "data": {
      "image/png": "[encoded data removed]",
      "text/plain": [
       "<Figure size 1000x800 with 1 Axes>"
      ]
     },
     "metadata": {},
     "output_type": "display_data"
    }
   ],
   "source": [
    "plt.figure(figsize=(10,8))\n",
    "df.Attrition.value_counts().plot(kind= \"barh\", color=\"green\",alpha=.65)\n",
    "plt.title=\"Attrition breakdown\"\n",
    "plt.show()\n"
   ]
  },
  {
   "cell_type": "code",
   "execution_count": 87,
   "id": "88182b6a-1605-459e-aeca-ed683a8dad6f",
   "metadata": {},
   "outputs": [
    {
     "data": {
      "image/png": "[encoded data removed]",
      "text/plain": [
       "<Figure size 1000x800 with 1 Axes>"
      ]
     },
     "metadata": {},
     "output_type": "display_data"
    }
   ],
   "source": [
    "plt.figure(figsize=(10,8))\n",
    "df.Attrition.value_counts().plot(kind= \"barh\", color=\"green\",alpha=.65)\n",
    "plt.title=\"Attrition breakdown\"\n",
    "plt.show()\n"
   ]
  },
  {
   "cell_type": "code",
   "execution_count": null,
   "id": "d1677972-035c-495e-8ae7-2e29c0e830d4",
   "metadata": {},
   "outputs": [],
   "source": []
  },
  {
   "cell_type": "code",
   "execution_count": 89,
   "id": "3c66b08f-96fa-4a92-ae0f-1e2db6e7117c",
   "metadata": {},
   "outputs": [
    {
     "data": {
      "image/png": "[encoded data removed]",
      "text/plain": [
       "<Figure size 1000x800 with 1 Axes>"
      ]
     },
     "metadata": {},
     "output_type": "display_data"
    }
   ],
   "source": [
    "plt.figure(figsize=(10,8))\n",
    "df.EducationField.value_counts().plot(kind= \"barh\", color=\"b\",alpha=.65)\n",
    "plt.title=\"Education Field Distribution\"\n",
    "plt.show()"
   ]
  },
  {
   "cell_type": "code",
   "execution_count": null,
   "id": "89a3308e-104a-47bd-9ec4-aed92329f52f",
   "metadata": {},
   "outputs": [],
   "source": []
  },
  {
   "cell_type": "code",
   "execution_count": 92,
   "id": "52a8d457-22b3-4973-b989-62abf68bb4e2",
   "metadata": {},
   "outputs": [
    {
     "data": {
      "image/png": "[encoded data removed]",
      "text/plain": [
       "<Figure size 800x600 with 1 Axes>"
      ]
     },
     "metadata": {},
     "output_type": "display_data"
    }
   ],
   "source": [
    "plt.figure(figsize=(8,6))\n",
    "df.MaritalStatus.value_counts().plot(kind= \"bar\", color=\"purple\",alpha=.5)\n",
    "plt.title=\"Maritsl Status\"\n",
    "plt.show()\n"
   ]
  },
  {
   "cell_type": "code",
   "execution_count": 94,
   "id": "7087f007-0879-4919-b926-1ea0ca3246e9",
   "metadata": {},
   "outputs": [
    {
     "data": {
      "text/html": [
       "<div>\n",
       "<style scoped>\n",
       "    .dataframe tbody tr th:only-of-type {\n",
       "        vertical-align: middle;\n",
       "    }\n",
       "\n",
       "    .dataframe tbody tr th {\n",
       "        vertical-align: top;\n",
       "    }\n",
       "\n",
       "    .dataframe thead th {\n",
       "        text-align: right;\n",
       "    }\n",
       "</style>\n",
       "<table border=\"1\" class=\"dataframe\">\n",
       "  <thead>\n",
       "    <tr style=\"text-align: right;\">\n",
       "      <th></th>\n",
       "      <th>Age</th>\n",
       "      <th>DistanceFromHome</th>\n",
       "      <th>Education</th>\n",
       "      <th>EnvironmentSatisfaction</th>\n",
       "      <th>JobSatisfaction</th>\n",
       "      <th>MonthlyIncome</th>\n",
       "      <th>NumCompaniesWorked</th>\n",
       "      <th>WorkLifeBalance</th>\n",
       "      <th>YearsAtCompany</th>\n",
       "    </tr>\n",
       "  </thead>\n",
       "  <tbody>\n",
       "    <tr>\n",
       "      <th>count</th>\n",
       "      <td>1470.000000</td>\n",
       "      <td>1470.000000</td>\n",
       "      <td>1470.000000</td>\n",
       "      <td>1470.000000</td>\n",
       "      <td>1470.000000</td>\n",
       "      <td>1470.000000</td>\n",
       "      <td>1470.000000</td>\n",
       "      <td>1470.000000</td>\n",
       "      <td>1470.000000</td>\n",
       "    </tr>\n",
       "    <tr>\n",
       "      <th>mean</th>\n",
       "      <td>36.923810</td>\n",
       "      <td>9.192517</td>\n",
       "      <td>2.912925</td>\n",
       "      <td>2.721769</td>\n",
       "      <td>2.728571</td>\n",
       "      <td>6502.931293</td>\n",
       "      <td>2.693197</td>\n",
       "      <td>2.761224</td>\n",
       "      <td>7.008163</td>\n",
       "    </tr>\n",
       "    <tr>\n",
       "      <th>std</th>\n",
       "      <td>9.135373</td>\n",
       "      <td>8.106864</td>\n",
       "      <td>1.024165</td>\n",
       "      <td>1.093082</td>\n",
       "      <td>1.102846</td>\n",
       "      <td>4707.956783</td>\n",
       "      <td>2.498009</td>\n",
       "      <td>0.706476</td>\n",
       "      <td>6.126525</td>\n",
       "    </tr>\n",
       "    <tr>\n",
       "      <th>min</th>\n",
       "      <td>18.000000</td>\n",
       "      <td>1.000000</td>\n",
       "      <td>1.000000</td>\n",
       "      <td>1.000000</td>\n",
       "      <td>1.000000</td>\n",
       "      <td>1009.000000</td>\n",
       "      <td>0.000000</td>\n",
       "      <td>1.000000</td>\n",
       "      <td>0.000000</td>\n",
       "    </tr>\n",
       "    <tr>\n",
       "      <th>25%</th>\n",
       "      <td>30.000000</td>\n",
       "      <td>2.000000</td>\n",
       "      <td>2.000000</td>\n",
       "      <td>2.000000</td>\n",
       "      <td>2.000000</td>\n",
       "      <td>2911.000000</td>\n",
       "      <td>1.000000</td>\n",
       "      <td>2.000000</td>\n",
       "      <td>3.000000</td>\n",
       "    </tr>\n",
       "    <tr>\n",
       "      <th>50%</th>\n",
       "      <td>36.000000</td>\n",
       "      <td>7.000000</td>\n",
       "      <td>3.000000</td>\n",
       "      <td>3.000000</td>\n",
       "      <td>3.000000</td>\n",
       "      <td>4919.000000</td>\n",
       "      <td>2.000000</td>\n",
       "      <td>3.000000</td>\n",
       "      <td>5.000000</td>\n",
       "    </tr>\n",
       "    <tr>\n",
       "      <th>75%</th>\n",
       "      <td>43.000000</td>\n",
       "      <td>14.000000</td>\n",
       "      <td>4.000000</td>\n",
       "      <td>4.000000</td>\n",
       "      <td>4.000000</td>\n",
       "      <td>8379.000000</td>\n",
       "      <td>4.000000</td>\n",
       "      <td>3.000000</td>\n",
       "      <td>9.000000</td>\n",
       "    </tr>\n",
       "    <tr>\n",
       "      <th>max</th>\n",
       "      <td>60.000000</td>\n",
       "      <td>29.000000</td>\n",
       "      <td>5.000000</td>\n",
       "      <td>4.000000</td>\n",
       "      <td>4.000000</td>\n",
       "      <td>19999.000000</td>\n",
       "      <td>9.000000</td>\n",
       "      <td>4.000000</td>\n",
       "      <td>40.000000</td>\n",
       "    </tr>\n",
       "  </tbody>\n",
       "</table>\n",
       "</div>"
      ],
      "text/plain": [
       "               Age  DistanceFromHome    Education  EnvironmentSatisfaction  \\\n",
       "count  1470.000000       1470.000000  1470.000000              1470.000000   \n",
       "mean     36.923810          9.192517     2.912925                 2.721769   \n",
       "std       9.135373          8.106864     1.024165                 1.093082   \n",
       "min      18.000000          1.000000     1.000000                 1.000000   \n",
       "25%      30.000000          2.000000     2.000000                 2.000000   \n",
       "50%      36.000000          7.000000     3.000000                 3.000000   \n",
       "75%      43.000000         14.000000     4.000000                 4.000000   \n",
       "max      60.000000         29.000000     5.000000                 4.000000   \n",
       "\n",
       "       JobSatisfaction  MonthlyIncome  NumCompaniesWorked  WorkLifeBalance  \\\n",
       "count      1470.000000    1470.000000         1470.000000      1470.000000   \n",
       "mean          2.728571    6502.931293            2.693197         2.761224   \n",
       "std           1.102846    4707.956783            2.498009         0.706476   \n",
       "min           1.000000    1009.000000            0.000000         1.000000   \n",
       "25%           2.000000    2911.000000            1.000000         2.000000   \n",
       "50%           3.000000    4919.000000            2.000000         3.000000   \n",
       "75%           4.000000    8379.000000            4.000000         3.000000   \n",
       "max           4.000000   19999.000000            9.000000         4.000000   \n",
       "\n",
       "       YearsAtCompany  \n",
       "count     1470.000000  \n",
       "mean         7.008163  \n",
       "std          6.126525  \n",
       "min          0.000000  \n",
       "25%          3.000000  \n",
       "50%          5.000000  \n",
       "75%          9.000000  \n",
       "max         40.000000  "
      ]
     },
     "execution_count": 94,
     "metadata": {},
     "output_type": "execute_result"
    }
   ],
   "source": [
    "df.describe()"
   ]
  },
  {
   "cell_type": "code",
   "execution_count": 95,
   "id": "684665f2-2778-460f-93a2-f815dfd11e33",
   "metadata": {},
   "outputs": [
    {
     "data": {
      "text/plain": [
       "<bound method DataFrame.info of       Age Attrition              Department  DistanceFromHome  Education  \\\n",
       "0      41       Yes                   Sales                 1          2   \n",
       "1      49        No  Research & Development                 8          1   \n",
       "2      37       Yes  Research & Development                 2          2   \n",
       "3      33        No  Research & Development                 3          4   \n",
       "4      27        No  Research & Development                 2          1   \n",
       "...   ...       ...                     ...               ...        ...   \n",
       "1465   36        No  Research & Development                23          2   \n",
       "1466   39        No  Research & Development                 6          1   \n",
       "1467   27        No  Research & Development                 4          3   \n",
       "1468   49        No                   Sales                 2          3   \n",
       "1469   34        No  Research & Development                 8          3   \n",
       "\n",
       "     EducationField  EnvironmentSatisfaction  JobSatisfaction MaritalStatus  \\\n",
       "0     Life Sciences                        2                4        Single   \n",
       "1     Life Sciences                        3                2       Married   \n",
       "2             Other                        4                3        Single   \n",
       "3     Life Sciences                        4                3       Married   \n",
       "4           Medical                        1                2       Married   \n",
       "...             ...                      ...              ...           ...   \n",
       "1465        Medical                        3                4       Married   \n",
       "1466        Medical                        4                1       Married   \n",
       "1467  Life Sciences                        2                2       Married   \n",
       "1468        Medical                        4                2       Married   \n",
       "1469        Medical                        2                3       Married   \n",
       "\n",
       "      MonthlyIncome  NumCompaniesWorked  WorkLifeBalance  YearsAtCompany  \n",
       "0              5993                   8                1               6  \n",
       "1              5130                   1                3              10  \n",
       "2              2090                   6                3               0  \n",
       "3              2909                   1                3               8  \n",
       "4              3468                   9                3               2  \n",
       "...             ...                 ...              ...             ...  \n",
       "1465           2571                   4                3               5  \n",
       "1466           9991                   4                3               7  \n",
       "1467           6142                   1                3               6  \n",
       "1468           5390                   2                2               9  \n",
       "1469           4404                   2                4               4  \n",
       "\n",
       "[1470 rows x 13 columns]>"
      ]
     },
     "execution_count": 95,
     "metadata": {},
     "output_type": "execute_result"
    }
   ],
   "source": [
    "df.info"
   ]
  },
  {
   "cell_type": "code",
   "execution_count": 96,
   "id": "79890432-732f-4ac1-9808-6bd9e9d8244f",
   "metadata": {},
   "outputs": [
    {
     "data": {
      "text/plain": [
       "Index(['Age', 'Attrition', 'Department', 'DistanceFromHome', 'Education',\n",
       "       'EducationField', 'EnvironmentSatisfaction', 'JobSatisfaction',\n",
       "       'MaritalStatus', 'MonthlyIncome', 'NumCompaniesWorked',\n",
       "       'WorkLifeBalance', 'YearsAtCompany'],\n",
       "      dtype='object')"
      ]
     },
     "execution_count": 96,
     "metadata": {},
     "output_type": "execute_result"
    }
   ],
   "source": [
    "df.columns"
   ]
  },
  {
   "cell_type": "code",
   "execution_count": 97,
   "id": "bd565452-1a6a-47c0-bb7e-c1cb7b3aff5c",
   "metadata": {},
   "outputs": [
    {
     "name": "stderr",
     "output_type": "stream",
     "text": [
      "C:\\Users\\HP\\AppData\\Local\\Temp\\ipykernel_12524\\3390915376.py:1: FutureWarning: Dropping of nuisance columns in DataFrame reductions (with 'numeric_only=None') is deprecated; in a future version this will raise TypeError.  Select only valid columns before calling the reduction.\n",
      "  df.std()\n"
     ]
    },
    {
     "data": {
      "text/plain": [
       "Age                           9.135373\n",
       "DistanceFromHome              8.106864\n",
       "Education                     1.024165\n",
       "EnvironmentSatisfaction       1.093082\n",
       "JobSatisfaction               1.102846\n",
       "MonthlyIncome              4707.956783\n",
       "NumCompaniesWorked            2.498009\n",
       "WorkLifeBalance               0.706476\n",
       "YearsAtCompany                6.126525\n",
       "dtype: float64"
      ]
     },
     "execution_count": 97,
     "metadata": {},
     "output_type": "execute_result"
    }
   ],
   "source": [
    "df.std()"
   ]
  },
  {
   "cell_type": "code",
   "execution_count": 98,
   "id": "b7a1c036-7cb0-4640-815f-7acb0f28fe2f",
   "metadata": {},
   "outputs": [
    {
     "data": {
      "text/plain": [
       "No     1233\n",
       "Yes     237\n",
       "Name: Attrition, dtype: int64"
      ]
     },
     "execution_count": 98,
     "metadata": {},
     "output_type": "execute_result"
    }
   ],
   "source": [
    "df['Attrition'].value_counts()"
   ]
  },
  {
   "cell_type": "code",
   "execution_count": 100,
   "id": "4b956668-f653-41dd-8035-868a05f0ae75",
   "metadata": {},
   "outputs": [
    {
     "data": {
      "text/plain": [
       "dtype('O')"
      ]
     },
     "execution_count": 100,
     "metadata": {},
     "output_type": "execute_result"
    }
   ],
   "source": [
    "df['Attrition'].dtype"
   ]
  },
  {
   "cell_type": "code",
   "execution_count": 101,
   "id": "9cae0e0b-2afe-4199-b30f-ba48fbd11bd3",
   "metadata": {},
   "outputs": [],
   "source": [
    "dataframe['Attrition'].replace('Yes',1, inplace=True)\n",
    "dataframe['Attrition'].replace('No',0, inplace=True)"
   ]
  },
  {
   "cell_type": "code",
   "execution_count": 104,
   "id": "bb712d87-9c55-46d1-a7f0-c81f9d61b732",
   "metadata": {},
   "outputs": [
    {
     "data": {
      "text/html": [
       "<div>\n",
       "<style scoped>\n",
       "    .dataframe tbody tr th:only-of-type {\n",
       "        vertical-align: middle;\n",
       "    }\n",
       "\n",
       "    .dataframe tbody tr th {\n",
       "        vertical-align: top;\n",
       "    }\n",
       "\n",
       "    .dataframe thead th {\n",
       "        text-align: right;\n",
       "    }\n",
       "</style>\n",
       "<table border=\"1\" class=\"dataframe\">\n",
       "  <thead>\n",
       "    <tr style=\"text-align: right;\">\n",
       "      <th></th>\n",
       "      <th>Age</th>\n",
       "      <th>Attrition</th>\n",
       "      <th>Department</th>\n",
       "      <th>DistanceFromHome</th>\n",
       "      <th>Education</th>\n",
       "      <th>EducationField</th>\n",
       "      <th>EnvironmentSatisfaction</th>\n",
       "      <th>JobSatisfaction</th>\n",
       "      <th>MaritalStatus</th>\n",
       "      <th>MonthlyIncome</th>\n",
       "      <th>NumCompaniesWorked</th>\n",
       "      <th>WorkLifeBalance</th>\n",
       "      <th>YearsAtCompany</th>\n",
       "    </tr>\n",
       "  </thead>\n",
       "  <tbody>\n",
       "    <tr>\n",
       "      <th>0</th>\n",
       "      <td>41</td>\n",
       "      <td>1</td>\n",
       "      <td>Sales</td>\n",
       "      <td>1</td>\n",
       "      <td>2</td>\n",
       "      <td>Life Sciences</td>\n",
       "      <td>2</td>\n",
       "      <td>4</td>\n",
       "      <td>Single</td>\n",
       "      <td>5993</td>\n",
       "      <td>8</td>\n",
       "      <td>1</td>\n",
       "      <td>6</td>\n",
       "    </tr>\n",
       "    <tr>\n",
       "      <th>1</th>\n",
       "      <td>49</td>\n",
       "      <td>0</td>\n",
       "      <td>Research &amp; Development</td>\n",
       "      <td>8</td>\n",
       "      <td>1</td>\n",
       "      <td>Life Sciences</td>\n",
       "      <td>3</td>\n",
       "      <td>2</td>\n",
       "      <td>Married</td>\n",
       "      <td>5130</td>\n",
       "      <td>1</td>\n",
       "      <td>3</td>\n",
       "      <td>10</td>\n",
       "    </tr>\n",
       "    <tr>\n",
       "      <th>2</th>\n",
       "      <td>37</td>\n",
       "      <td>1</td>\n",
       "      <td>Research &amp; Development</td>\n",
       "      <td>2</td>\n",
       "      <td>2</td>\n",
       "      <td>Other</td>\n",
       "      <td>4</td>\n",
       "      <td>3</td>\n",
       "      <td>Single</td>\n",
       "      <td>2090</td>\n",
       "      <td>6</td>\n",
       "      <td>3</td>\n",
       "      <td>0</td>\n",
       "    </tr>\n",
       "    <tr>\n",
       "      <th>3</th>\n",
       "      <td>33</td>\n",
       "      <td>0</td>\n",
       "      <td>Research &amp; Development</td>\n",
       "      <td>3</td>\n",
       "      <td>4</td>\n",
       "      <td>Life Sciences</td>\n",
       "      <td>4</td>\n",
       "      <td>3</td>\n",
       "      <td>Married</td>\n",
       "      <td>2909</td>\n",
       "      <td>1</td>\n",
       "      <td>3</td>\n",
       "      <td>8</td>\n",
       "    </tr>\n",
       "    <tr>\n",
       "      <th>4</th>\n",
       "      <td>27</td>\n",
       "      <td>0</td>\n",
       "      <td>Research &amp; Development</td>\n",
       "      <td>2</td>\n",
       "      <td>1</td>\n",
       "      <td>Medical</td>\n",
       "      <td>1</td>\n",
       "      <td>2</td>\n",
       "      <td>Married</td>\n",
       "      <td>3468</td>\n",
       "      <td>9</td>\n",
       "      <td>3</td>\n",
       "      <td>2</td>\n",
       "    </tr>\n",
       "    <tr>\n",
       "      <th>5</th>\n",
       "      <td>32</td>\n",
       "      <td>0</td>\n",
       "      <td>Research &amp; Development</td>\n",
       "      <td>2</td>\n",
       "      <td>2</td>\n",
       "      <td>Life Sciences</td>\n",
       "      <td>4</td>\n",
       "      <td>4</td>\n",
       "      <td>Single</td>\n",
       "      <td>3068</td>\n",
       "      <td>0</td>\n",
       "      <td>2</td>\n",
       "      <td>7</td>\n",
       "    </tr>\n",
       "    <tr>\n",
       "      <th>6</th>\n",
       "      <td>59</td>\n",
       "      <td>0</td>\n",
       "      <td>Research &amp; Development</td>\n",
       "      <td>3</td>\n",
       "      <td>3</td>\n",
       "      <td>Medical</td>\n",
       "      <td>3</td>\n",
       "      <td>1</td>\n",
       "      <td>Married</td>\n",
       "      <td>2670</td>\n",
       "      <td>4</td>\n",
       "      <td>2</td>\n",
       "      <td>1</td>\n",
       "    </tr>\n",
       "    <tr>\n",
       "      <th>7</th>\n",
       "      <td>30</td>\n",
       "      <td>0</td>\n",
       "      <td>Research &amp; Development</td>\n",
       "      <td>24</td>\n",
       "      <td>1</td>\n",
       "      <td>Life Sciences</td>\n",
       "      <td>4</td>\n",
       "      <td>3</td>\n",
       "      <td>Divorced</td>\n",
       "      <td>2693</td>\n",
       "      <td>1</td>\n",
       "      <td>3</td>\n",
       "      <td>1</td>\n",
       "    </tr>\n",
       "    <tr>\n",
       "      <th>8</th>\n",
       "      <td>38</td>\n",
       "      <td>0</td>\n",
       "      <td>Research &amp; Development</td>\n",
       "      <td>23</td>\n",
       "      <td>3</td>\n",
       "      <td>Life Sciences</td>\n",
       "      <td>4</td>\n",
       "      <td>3</td>\n",
       "      <td>Single</td>\n",
       "      <td>9526</td>\n",
       "      <td>0</td>\n",
       "      <td>3</td>\n",
       "      <td>9</td>\n",
       "    </tr>\n",
       "    <tr>\n",
       "      <th>9</th>\n",
       "      <td>36</td>\n",
       "      <td>0</td>\n",
       "      <td>Research &amp; Development</td>\n",
       "      <td>27</td>\n",
       "      <td>3</td>\n",
       "      <td>Medical</td>\n",
       "      <td>3</td>\n",
       "      <td>3</td>\n",
       "      <td>Married</td>\n",
       "      <td>5237</td>\n",
       "      <td>6</td>\n",
       "      <td>2</td>\n",
       "      <td>7</td>\n",
       "    </tr>\n",
       "  </tbody>\n",
       "</table>\n",
       "</div>"
      ],
      "text/plain": [
       "   Age  Attrition              Department  DistanceFromHome  Education  \\\n",
       "0   41          1                   Sales                 1          2   \n",
       "1   49          0  Research & Development                 8          1   \n",
       "2   37          1  Research & Development                 2          2   \n",
       "3   33          0  Research & Development                 3          4   \n",
       "4   27          0  Research & Development                 2          1   \n",
       "5   32          0  Research & Development                 2          2   \n",
       "6   59          0  Research & Development                 3          3   \n",
       "7   30          0  Research & Development                24          1   \n",
       "8   38          0  Research & Development                23          3   \n",
       "9   36          0  Research & Development                27          3   \n",
       "\n",
       "  EducationField  EnvironmentSatisfaction  JobSatisfaction MaritalStatus  \\\n",
       "0  Life Sciences                        2                4        Single   \n",
       "1  Life Sciences                        3                2       Married   \n",
       "2          Other                        4                3        Single   \n",
       "3  Life Sciences                        4                3       Married   \n",
       "4        Medical                        1                2       Married   \n",
       "5  Life Sciences                        4                4        Single   \n",
       "6        Medical                        3                1       Married   \n",
       "7  Life Sciences                        4                3      Divorced   \n",
       "8  Life Sciences                        4                3        Single   \n",
       "9        Medical                        3                3       Married   \n",
       "\n",
       "   MonthlyIncome  NumCompaniesWorked  WorkLifeBalance  YearsAtCompany  \n",
       "0           5993                   8                1               6  \n",
       "1           5130                   1                3              10  \n",
       "2           2090                   6                3               0  \n",
       "3           2909                   1                3               8  \n",
       "4           3468                   9                3               2  \n",
       "5           3068                   0                2               7  \n",
       "6           2670                   4                2               1  \n",
       "7           2693                   1                3               1  \n",
       "8           9526                   0                3               9  \n",
       "9           5237                   6                2               7  "
      ]
     },
     "execution_count": 104,
     "metadata": {},
     "output_type": "execute_result"
    }
   ],
   "source": [
    "df.head(10)"
   ]
  },
  {
   "cell_type": "code",
   "execution_count": 110,
   "id": "9c93497b-818d-41c9-89a0-8bdda70c6271",
   "metadata": {},
   "outputs": [
    {
     "data": {
      "text/plain": [
       "0    1\n",
       "1    0\n",
       "2    1\n",
       "3    0\n",
       "4    0\n",
       "Name: Attrition, dtype: int64"
      ]
     },
     "execution_count": 110,
     "metadata": {},
     "output_type": "execute_result"
    }
   ],
   "source": [
    "X= df.drop(['Attrition'],axis= 1)\n",
    "X.head()\n",
    "Y=df['Attrition']\n",
    "Y.head()"
   ]
  },
  {
   "cell_type": "code",
   "execution_count": 112,
   "id": "e35bf4c3-2dfd-4b76-9633-0035a8d41ad3",
   "metadata": {},
   "outputs": [],
   "source": [
    "dataframe['EducationField'].replace('Life Sciences',1, inplace=True)\n",
    "dataframe['EducationField'].replace('Medical',2, inplace=True)\n",
    "dataframe['EducationField'].replace('Marketing', 3, inplace=True)\n",
    "dataframe['EducationField'].replace('Other',4, inplace=True)\n",
    "dataframe['EducationField'].replace('Technical Degree',5, inplace=True)\n",
    "dataframe['EducationField'].replace('Human Resources', 6, inplace=True)"
   ]
  },
  {
   "cell_type": "code",
   "execution_count": 115,
   "id": "fa698539-781a-4896-965b-fe74b123a966",
   "metadata": {},
   "outputs": [
    {
     "data": {
      "text/plain": [
       "1    606\n",
       "2    464\n",
       "3    159\n",
       "5    132\n",
       "4     82\n",
       "6     27\n",
       "Name: EducationField, dtype: int64"
      ]
     },
     "execution_count": 115,
     "metadata": {},
     "output_type": "execute_result"
    }
   ],
   "source": [
    "df['EducationField'].value_counts()"
   ]
  },
  {
   "cell_type": "code",
   "execution_count": 116,
   "id": "72ed7061-b055-4b55-b230-8a48f7f84407",
   "metadata": {},
   "outputs": [
    {
     "data": {
      "text/plain": [
       "Research & Development    961\n",
       "Sales                     446\n",
       "Human Resources            63\n",
       "Name: Department, dtype: int64"
      ]
     },
     "execution_count": 116,
     "metadata": {},
     "output_type": "execute_result"
    }
   ],
   "source": [
    "dataframe['Department'].value_counts()"
   ]
  },
  {
   "cell_type": "code",
   "execution_count": 117,
   "id": "2ad397cc-6b2b-4135-a880-fa379089d30d",
   "metadata": {},
   "outputs": [],
   "source": [
    "dataframe['Department'].replace('Research & Development',1, inplace=True)\n",
    "dataframe['Department'].replace('Sales',2, inplace=True)\n",
    "dataframe['Department'].replace('Human Resources', 3, inplace=True)"
   ]
  },
  {
   "cell_type": "code",
   "execution_count": 118,
   "id": "e4e933bc-1c64-4e8a-9f0b-6e4706b66b7b",
   "metadata": {},
   "outputs": [
    {
     "data": {
      "text/plain": [
       "1    961\n",
       "2    446\n",
       "3     63\n",
       "Name: Department, dtype: int64"
      ]
     },
     "execution_count": 118,
     "metadata": {},
     "output_type": "execute_result"
    }
   ],
   "source": [
    "dataframe['Department'].value_counts()"
   ]
  },
  {
   "cell_type": "code",
   "execution_count": 119,
   "id": "4c79361a-3297-44e1-82a2-b93325e7f1b2",
   "metadata": {},
   "outputs": [
    {
     "data": {
      "text/plain": [
       "Married     673\n",
       "Single      470\n",
       "Divorced    327\n",
       "Name: MaritalStatus, dtype: int64"
      ]
     },
     "execution_count": 119,
     "metadata": {},
     "output_type": "execute_result"
    }
   ],
   "source": [
    "dataframe['MaritalStatus'].value_counts()"
   ]
  },
  {
   "cell_type": "code",
   "execution_count": 120,
   "id": "7f384907-eeb2-4574-bbdc-eddeed697495",
   "metadata": {},
   "outputs": [],
   "source": [
    "dataframe['MaritalStatus'].replace('Married',1, inplace=True)\n",
    "dataframe['MaritalStatus'].replace('Single',2, inplace=True)\n",
    "dataframe['MaritalStatus'].replace('Divorced',3, inplace=True)"
   ]
  },
  {
   "cell_type": "code",
   "execution_count": 121,
   "id": "9eceb000-79e8-45bd-880c-9b862f098a94",
   "metadata": {},
   "outputs": [
    {
     "data": {
      "text/plain": [
       "1    673\n",
       "2    470\n",
       "3    327\n",
       "Name: MaritalStatus, dtype: int64"
      ]
     },
     "execution_count": 121,
     "metadata": {},
     "output_type": "execute_result"
    }
   ],
   "source": [
    "dataframe['MaritalStatus'].value_counts()"
   ]
  },
  {
   "cell_type": "code",
   "execution_count": 122,
   "id": "5e111284-c38c-4887-b7b0-7562ccde20cf",
   "metadata": {},
   "outputs": [
    {
     "data": {
      "text/plain": [
       "Age                        int64\n",
       "Attrition                  int64\n",
       "Department                 int64\n",
       "DistanceFromHome           int64\n",
       "Education                  int64\n",
       "EducationField             int64\n",
       "EnvironmentSatisfaction    int64\n",
       "JobSatisfaction            int64\n",
       "MaritalStatus              int64\n",
       "MonthlyIncome              int64\n",
       "NumCompaniesWorked         int64\n",
       "WorkLifeBalance            int64\n",
       "YearsAtCompany             int64\n",
       "dtype: object"
      ]
     },
     "execution_count": 122,
     "metadata": {},
     "output_type": "execute_result"
    }
   ],
   "source": [
    "x=dataframe.select_dtypes(include=['int64'])\n",
    "x.dtypes"
   ]
  },
  {
   "cell_type": "code",
   "execution_count": 125,
   "id": "496117ee-df94-4f88-af22-95dd1544fce4",
   "metadata": {},
   "outputs": [
    {
     "data": {
      "text/plain": [
       "Index(['Age', 'Attrition', 'Department', 'DistanceFromHome', 'Education',\n",
       "       'EducationField', 'EnvironmentSatisfaction', 'JobSatisfaction',\n",
       "       'MaritalStatus', 'MonthlyIncome', 'NumCompaniesWorked',\n",
       "       'WorkLifeBalance', 'YearsAtCompany'],\n",
       "      dtype='object')"
      ]
     },
     "execution_count": 125,
     "metadata": {},
     "output_type": "execute_result"
    }
   ],
   "source": [
    "x.columns"
   ]
  },
  {
   "cell_type": "code",
   "execution_count": 126,
   "id": "1d41f5ab-dfe9-4d8c-b0f4-2b08b3ab2ac6",
   "metadata": {},
   "outputs": [],
   "source": [
    "y=dataframe['Attrition']"
   ]
  },
  {
   "cell_type": "code",
   "execution_count": 127,
   "id": "a6d1df0a-57e4-482e-af09-ae9862ff7284",
   "metadata": {},
   "outputs": [
    {
     "data": {
      "text/plain": [
       "0    1\n",
       "1    0\n",
       "2    1\n",
       "3    0\n",
       "4    0\n",
       "Name: Attrition, dtype: int64"
      ]
     },
     "execution_count": 127,
     "metadata": {},
     "output_type": "execute_result"
    }
   ],
   "source": [
    "y.head()"
   ]
  },
  {
   "cell_type": "code",
   "execution_count": 128,
   "id": "ddf1b1b1-3f25-467d-bf87-89220b53e00c",
   "metadata": {},
   "outputs": [
    {
     "name": "stdout",
     "output_type": "stream",
     "text": [
      "Index(['Intercept', 'Age', 'Department', 'DistanceFromHome', 'Education',\n",
      "       'EducationField', 'YearsAtCompany'],\n",
      "      dtype='object')\n"
     ]
    }
   ],
   "source": [
    "y, x = dmatrices('Attrition ~ Age + Department + \\\n",
    "                  DistanceFromHome + Education + EducationField + YearsAtCompany',\n",
    "                  dataframe, return_type=\"dataframe\")\n",
    "print (x.columns)"
   ]
  },
  {
   "cell_type": "code",
   "execution_count": 129,
   "id": "7caa4ac8-f681-433c-8a53-153907ae1653",
   "metadata": {},
   "outputs": [],
   "source": [
    "y = np.ravel(y)"
   ]
  },
  {
   "cell_type": "code",
   "execution_count": 131,
   "id": "02dc6ec6-6647-42a5-b08f-19202d3634bb",
   "metadata": {},
   "outputs": [],
   "source": [
    "from sklearn.linear_model import LogisticRegression\n",
    "\n",
    "model = LogisticRegression()\n",
    "model = model.fit(x, y)\n"
   ]
  },
  {
   "cell_type": "code",
   "execution_count": 132,
   "id": "c4655c81-aab4-4baf-8b43-fe1a20ae5dab",
   "metadata": {},
   "outputs": [
    {
     "data": {
      "text/plain": [
       "0.8408163265306122"
      ]
     },
     "execution_count": 132,
     "metadata": {},
     "output_type": "execute_result"
    }
   ],
   "source": [
    "model.score(x,y)"
   ]
  },
  {
   "cell_type": "code",
   "execution_count": 134,
   "id": "5d978204-1021-484b-a15c-79698cc95ecb",
   "metadata": {},
   "outputs": [
    {
     "data": {
      "text/plain": [
       "0.16122448979591836"
      ]
     },
     "execution_count": 134,
     "metadata": {},
     "output_type": "execute_result"
    }
   ],
   "source": [
    "y.mean()"
   ]
  },
  {
   "cell_type": "code",
   "execution_count": 137,
   "id": "3c275c8f-0585-494b-a45d-053d421deed5",
   "metadata": {},
   "outputs": [
    {
     "data": {
      "text/plain": [
       "LogisticRegression()"
      ]
     },
     "execution_count": 137,
     "metadata": {},
     "output_type": "execute_result"
    }
   ],
   "source": [
    "X_train,X_test,y_train,y_test=sklearn.model_selection.train_test_split(x,y, test_size=0.3, random_state=0)\n",
    "model2=LogisticRegression()\n",
    "model2.fit(X_train, y_train)"
   ]
  },
  {
   "cell_type": "code",
   "execution_count": 163,
   "id": "9c0b09b0-f0ee-46e9-9ac9-434063b75a45",
   "metadata": {},
   "outputs": [
    {
     "name": "stdout",
     "output_type": "stream",
     "text": [
      "[0. 0. 0. 0. 0. 0. 0. 0. 0. 0. 0. 0. 0. 0. 0. 0. 0. 0. 0. 0. 0. 0. 0. 0.\n",
      " 0. 0. 0. 0. 0. 0. 0. 0. 0. 0. 0. 0. 0. 0. 0. 0. 0. 0. 0. 0. 0. 0. 0. 0.\n",
      " 0. 0. 0. 0. 0. 0. 0. 0. 0. 0. 0. 0. 0. 0. 0. 0. 0. 0. 0. 0. 0. 0. 0. 0.\n",
      " 0. 0. 0. 0. 0. 0. 0. 0. 0. 0. 0. 0. 0. 0. 0. 0. 0. 0. 0. 0. 0. 0. 0. 0.\n",
      " 0. 0. 0. 0. 0. 0. 0. 0. 0. 0. 0. 0. 0. 0. 0. 0. 0. 0. 0. 0. 0. 0. 0. 0.\n",
      " 0. 0. 0. 0. 0. 0. 0. 0. 0. 0. 0. 0. 0. 0. 0. 0. 0. 0. 0. 0. 0. 0. 0. 0.\n",
      " 0. 0. 0. 0. 0. 0. 0. 0. 0. 0. 0. 0. 0. 0. 0. 0. 0. 0. 0. 0. 0. 0. 0. 0.\n",
      " 0. 0. 0. 0. 0. 0. 0. 0. 0. 0. 0. 0. 0. 0. 0. 0. 0. 0. 0. 0. 0. 0. 0. 0.\n",
      " 0. 0. 0. 0. 0. 0. 0. 0. 0. 0. 0. 0. 0. 0. 0. 0. 0. 0. 0. 0. 0. 0. 0. 0.\n",
      " 0. 0. 0. 0. 0. 0. 0. 0. 0. 0. 0. 0. 0. 0. 0. 0. 0. 0. 0. 0. 0. 0. 0. 0.\n",
      " 0. 0. 0. 0. 0. 0. 0. 0. 0. 0. 0. 0. 0. 0. 0. 0. 0. 0. 0. 0. 0. 0. 0. 0.\n",
      " 0. 0. 0. 0. 0. 0. 0. 0. 0. 0. 0. 0. 0. 0. 0. 0. 0. 0. 0. 0. 0. 0. 0. 0.\n",
      " 0. 0. 0. 0. 0. 0. 0. 0. 0. 0. 0. 0. 0. 0. 0. 0. 0. 0. 0. 0. 0. 0. 0. 0.\n",
      " 0. 0. 0. 0. 0. 0. 0. 0. 1. 0. 0. 0. 0. 0. 0. 0. 0. 0. 0. 0. 0. 0. 0. 0.\n",
      " 0. 0. 0. 0. 0. 0. 0. 0. 0. 0. 0. 0. 0. 0. 0. 0. 0. 0. 0. 0. 0. 0. 0. 0.\n",
      " 0. 0. 0. 0. 0. 0. 0. 0. 0. 0. 0. 0. 0. 0. 0. 0. 0. 0. 0. 0. 0. 0. 0. 0.\n",
      " 0. 0. 0. 0. 0. 0. 0. 0. 0. 0. 0. 0. 0. 0. 0. 0. 0. 0. 0. 0. 0. 0. 0. 0.\n",
      " 0. 0. 0. 0. 0. 0. 0. 0. 0. 0. 0. 0. 0. 0. 0. 0. 0. 0. 0. 0. 0. 0. 0. 0.\n",
      " 0. 0. 0. 0. 0. 0. 0. 0. 0.]\n"
     ]
    }
   ],
   "source": [
    "predicted= model2.predict(X_test)\n",
    "print (predicted)"
   ]
  },
  {
   "cell_type": "code",
   "execution_count": 152,
   "id": "624855aa-5c1f-411c-a12f-a0b3225ae5e1",
   "metadata": {},
   "outputs": [
    {
     "name": "stdout",
     "output_type": "stream",
     "text": [
      "[[0.86179622 0.13820378]\n",
      " [0.80754592 0.19245408]\n",
      " [0.74123929 0.25876071]\n",
      " [0.83441338 0.16558662]\n",
      " [0.73499935 0.26500065]\n",
      " [0.7909774  0.2090226 ]\n",
      " [0.85615196 0.14384804]\n",
      " [0.85699669 0.14300331]\n",
      " [0.96699058 0.03300942]\n",
      " [0.93685211 0.06314789]\n",
      " [0.95099279 0.04900721]\n",
      " [0.83101549 0.16898451]\n",
      " [0.86296557 0.13703443]\n",
      " [0.86581193 0.13418807]\n",
      " [0.88750605 0.11249395]\n",
      " [0.88892616 0.11107384]\n",
      " [0.88569727 0.11430273]\n",
      " [0.78516582 0.21483418]\n",
      " [0.7979449  0.2020551 ]\n",
      " [0.88511305 0.11488695]\n",
      " [0.70651586 0.29348414]\n",
      " [0.94676694 0.05323306]\n",
      " [0.86736253 0.13263747]\n",
      " [0.84276451 0.15723549]\n",
      " [0.60336833 0.39663167]\n",
      " [0.811292   0.188708  ]\n",
      " [0.91813732 0.08186268]\n",
      " [0.93285522 0.06714478]\n",
      " [0.68230748 0.31769252]\n",
      " [0.8702714  0.1297286 ]\n",
      " [0.87266386 0.12733614]\n",
      " [0.76968737 0.23031263]\n",
      " [0.86435776 0.13564224]\n",
      " [0.95758882 0.04241118]\n",
      " [0.84461487 0.15538513]\n",
      " [0.86719349 0.13280651]\n",
      " [0.90465984 0.09534016]\n",
      " [0.68936422 0.31063578]\n",
      " [0.90703619 0.09296381]\n",
      " [0.80663474 0.19336526]\n",
      " [0.91515729 0.08484271]\n",
      " [0.82351269 0.17648731]\n",
      " [0.93711518 0.06288482]\n",
      " [0.93411325 0.06588675]\n",
      " [0.89447656 0.10552344]\n",
      " [0.85317748 0.14682252]\n",
      " [0.78922387 0.21077613]\n",
      " [0.84879888 0.15120112]\n",
      " [0.66402443 0.33597557]\n",
      " [0.7625229  0.2374771 ]\n",
      " [0.92851113 0.07148887]\n",
      " [0.78953697 0.21046303]\n",
      " [0.86166591 0.13833409]\n",
      " [0.85837883 0.14162117]\n",
      " [0.87217674 0.12782326]\n",
      " [0.78950895 0.21049105]\n",
      " [0.87690794 0.12309206]\n",
      " [0.8416545  0.1583455 ]\n",
      " [0.72847138 0.27152862]\n",
      " [0.83181401 0.16818599]\n",
      " [0.90095033 0.09904967]\n",
      " [0.71077323 0.28922677]\n",
      " [0.92823024 0.07176976]\n",
      " [0.84375679 0.15624321]\n",
      " [0.79544105 0.20455895]\n",
      " [0.86826164 0.13173836]\n",
      " [0.91679452 0.08320548]\n",
      " [0.84763056 0.15236944]\n",
      " [0.89253708 0.10746292]\n",
      " [0.62872099 0.37127901]\n",
      " [0.93875395 0.06124605]\n",
      " [0.72620328 0.27379672]\n",
      " [0.85652974 0.14347026]\n",
      " [0.84226023 0.15773977]\n",
      " [0.77436381 0.22563619]\n",
      " [0.71899555 0.28100445]\n",
      " [0.93587391 0.06412609]\n",
      " [0.95710072 0.04289928]\n",
      " [0.79185832 0.20814168]\n",
      " [0.8937044  0.1062956 ]\n",
      " [0.91382041 0.08617959]\n",
      " [0.79354589 0.20645411]\n",
      " [0.77934017 0.22065983]\n",
      " [0.79638979 0.20361021]\n",
      " [0.838005   0.161995  ]\n",
      " [0.71395662 0.28604338]\n",
      " [0.97772717 0.02227283]\n",
      " [0.94645976 0.05354024]\n",
      " [0.88617626 0.11382374]\n",
      " [0.79620166 0.20379834]\n",
      " [0.61863819 0.38136181]\n",
      " [0.8186647  0.1813353 ]\n",
      " [0.74504122 0.25495878]\n",
      " [0.86779495 0.13220505]\n",
      " [0.8707114  0.1292886 ]\n",
      " [0.81717466 0.18282534]\n",
      " [0.71840766 0.28159234]\n",
      " [0.59825877 0.40174123]\n",
      " [0.83951553 0.16048447]\n",
      " [0.88351327 0.11648673]\n",
      " [0.74352568 0.25647432]\n",
      " [0.76631619 0.23368381]\n",
      " [0.98033038 0.01966962]\n",
      " [0.91857469 0.08142531]\n",
      " [0.7743284  0.2256716 ]\n",
      " [0.92514818 0.07485182]\n",
      " [0.88123384 0.11876616]\n",
      " [0.74587167 0.25412833]\n",
      " [0.90478363 0.09521637]\n",
      " [0.78685515 0.21314485]\n",
      " [0.81147771 0.18852229]\n",
      " [0.93472172 0.06527828]\n",
      " [0.93836505 0.06163495]\n",
      " [0.79411744 0.20588256]\n",
      " [0.813729   0.186271  ]\n",
      " [0.9161092  0.0838908 ]\n",
      " [0.90428347 0.09571653]\n",
      " [0.8466942  0.1533058 ]\n",
      " [0.95384555 0.04615445]\n",
      " [0.91283692 0.08716308]\n",
      " [0.85919606 0.14080394]\n",
      " [0.85902496 0.14097504]\n",
      " [0.87519517 0.12480483]\n",
      " [0.76114665 0.23885335]\n",
      " [0.92217688 0.07782312]\n",
      " [0.96859411 0.03140589]\n",
      " [0.94398223 0.05601777]\n",
      " [0.81780288 0.18219712]\n",
      " [0.88058705 0.11941295]\n",
      " [0.77894287 0.22105713]\n",
      " [0.97124467 0.02875533]\n",
      " [0.88807662 0.11192338]\n",
      " [0.78715263 0.21284737]\n",
      " [0.82001479 0.17998521]\n",
      " [0.94934546 0.05065454]\n",
      " [0.95888935 0.04111065]\n",
      " [0.73559212 0.26440788]\n",
      " [0.93417    0.06583   ]\n",
      " [0.73750624 0.26249376]\n",
      " [0.82136744 0.17863256]\n",
      " [0.821712   0.178288  ]\n",
      " [0.89896704 0.10103296]\n",
      " [0.78745765 0.21254235]\n",
      " [0.89825351 0.10174649]\n",
      " [0.91433821 0.08566179]\n",
      " [0.92724744 0.07275256]\n",
      " [0.96594967 0.03405033]\n",
      " [0.94417369 0.05582631]\n",
      " [0.93073083 0.06926917]\n",
      " [0.66320573 0.33679427]\n",
      " [0.84168648 0.15831352]\n",
      " [0.82636814 0.17363186]\n",
      " [0.80616637 0.19383363]\n",
      " [0.96157634 0.03842366]\n",
      " [0.93515161 0.06484839]\n",
      " [0.94778628 0.05221372]\n",
      " [0.97337827 0.02662173]\n",
      " [0.79297049 0.20702951]\n",
      " [0.87770197 0.12229803]\n",
      " [0.86103661 0.13896339]\n",
      " [0.9518548  0.0481452 ]\n",
      " [0.93131494 0.06868506]\n",
      " [0.75685353 0.24314647]\n",
      " [0.74997795 0.25002205]\n",
      " [0.95527868 0.04472132]\n",
      " [0.86950724 0.13049276]\n",
      " [0.81376767 0.18623233]\n",
      " [0.76990616 0.23009384]\n",
      " [0.80077906 0.19922094]\n",
      " [0.92801123 0.07198877]\n",
      " [0.90949247 0.09050753]\n",
      " [0.94557629 0.05442371]\n",
      " [0.93330469 0.06669531]\n",
      " [0.69145894 0.30854106]\n",
      " [0.93056886 0.06943114]\n",
      " [0.74525416 0.25474584]\n",
      " [0.78594338 0.21405662]\n",
      " [0.93308603 0.06691397]\n",
      " [0.80878291 0.19121709]\n",
      " [0.85096457 0.14903543]\n",
      " [0.66956271 0.33043729]\n",
      " [0.9033838  0.0966162 ]\n",
      " [0.91158935 0.08841065]\n",
      " [0.87300498 0.12699502]\n",
      " [0.92939057 0.07060943]\n",
      " [0.66661709 0.33338291]\n",
      " [0.89098515 0.10901485]\n",
      " [0.86216704 0.13783296]\n",
      " [0.78838555 0.21161445]\n",
      " [0.53099589 0.46900411]\n",
      " [0.73344321 0.26655679]\n",
      " [0.71053978 0.28946022]\n",
      " [0.85530495 0.14469505]\n",
      " [0.86960594 0.13039406]\n",
      " [0.75470004 0.24529996]\n",
      " [0.89823515 0.10176485]\n",
      " [0.79247836 0.20752164]\n",
      " [0.90643146 0.09356854]\n",
      " [0.77650777 0.22349223]\n",
      " [0.88387789 0.11612211]\n",
      " [0.85404309 0.14595691]\n",
      " [0.81899354 0.18100646]\n",
      " [0.74448508 0.25551492]\n",
      " [0.86259432 0.13740568]\n",
      " [0.77822623 0.22177377]\n",
      " [0.76928321 0.23071679]\n",
      " [0.79679224 0.20320776]\n",
      " [0.92096592 0.07903408]\n",
      " [0.74573764 0.25426236]\n",
      " [0.87499229 0.12500771]\n",
      " [0.8550329  0.1449671 ]\n",
      " [0.77292147 0.22707853]\n",
      " [0.87227272 0.12772728]\n",
      " [0.67395343 0.32604657]\n",
      " [0.93621666 0.06378334]\n",
      " [0.82479478 0.17520522]\n",
      " [0.95146048 0.04853952]\n",
      " [0.83462449 0.16537551]\n",
      " [0.81106482 0.18893518]\n",
      " [0.80828253 0.19171747]\n",
      " [0.87664155 0.12335845]\n",
      " [0.66786989 0.33213011]\n",
      " [0.59616845 0.40383155]\n",
      " [0.98979366 0.01020634]\n",
      " [0.70634393 0.29365607]\n",
      " [0.91633095 0.08366905]\n",
      " [0.92133476 0.07866524]\n",
      " [0.71383907 0.28616093]\n",
      " [0.62453929 0.37546071]\n",
      " [0.76440575 0.23559425]\n",
      " [0.95401656 0.04598344]\n",
      " [0.88186724 0.11813276]\n",
      " [0.86019902 0.13980098]\n",
      " [0.92117381 0.07882619]\n",
      " [0.88019169 0.11980831]\n",
      " [0.80451423 0.19548577]\n",
      " [0.8058518  0.1941482 ]\n",
      " [0.91345495 0.08654505]\n",
      " [0.72101807 0.27898193]\n",
      " [0.94508006 0.05491994]\n",
      " [0.9090691  0.0909309 ]\n",
      " [0.73381744 0.26618256]\n",
      " [0.98109186 0.01890814]\n",
      " [0.85490447 0.14509553]\n",
      " [0.89817072 0.10182928]\n",
      " [0.82436992 0.17563008]\n",
      " [0.83387099 0.16612901]\n",
      " [0.8813665  0.1186335 ]\n",
      " [0.88031306 0.11968694]\n",
      " [0.87560621 0.12439379]\n",
      " [0.81617201 0.18382799]\n",
      " [0.88028848 0.11971152]\n",
      " [0.61530824 0.38469176]\n",
      " [0.8882616  0.1117384 ]\n",
      " [0.89692816 0.10307184]\n",
      " [0.85328926 0.14671074]\n",
      " [0.98297043 0.01702957]\n",
      " [0.77341235 0.22658765]\n",
      " [0.62184872 0.37815128]\n",
      " [0.82739134 0.17260866]\n",
      " [0.84083338 0.15916662]\n",
      " [0.84808603 0.15191397]\n",
      " [0.8493703  0.1506297 ]\n",
      " [0.75540977 0.24459023]\n",
      " [0.86188857 0.13811143]\n",
      " [0.90684691 0.09315309]\n",
      " [0.8466327  0.1533673 ]\n",
      " [0.81290901 0.18709099]\n",
      " [0.74053567 0.25946433]\n",
      " [0.87035277 0.12964723]\n",
      " [0.83938089 0.16061911]\n",
      " [0.86267947 0.13732053]\n",
      " [0.66362885 0.33637115]\n",
      " [0.90671716 0.09328284]\n",
      " [0.87056302 0.12943698]\n",
      " [0.92580793 0.07419207]\n",
      " [0.84386847 0.15613153]\n",
      " [0.8987814  0.1012186 ]\n",
      " [0.91239498 0.08760502]\n",
      " [0.79867629 0.20132371]\n",
      " [0.64052595 0.35947405]\n",
      " [0.84683941 0.15316059]\n",
      " [0.75503189 0.24496811]\n",
      " [0.85264542 0.14735458]\n",
      " [0.99251434 0.00748566]\n",
      " [0.86138219 0.13861781]\n",
      " [0.88140143 0.11859857]\n",
      " [0.82757084 0.17242916]\n",
      " [0.93027077 0.06972923]\n",
      " [0.87307441 0.12692559]\n",
      " [0.88802399 0.11197601]\n",
      " [0.83753313 0.16246687]\n",
      " [0.86481029 0.13518971]\n",
      " [0.86515552 0.13484448]\n",
      " [0.89754793 0.10245207]\n",
      " [0.78409086 0.21590914]\n",
      " [0.79165111 0.20834889]\n",
      " [0.8838812  0.1161188 ]\n",
      " [0.65418945 0.34581055]\n",
      " [0.94059382 0.05940618]\n",
      " [0.89913437 0.10086563]\n",
      " [0.72525607 0.27474393]\n",
      " [0.69085504 0.30914496]\n",
      " [0.87591631 0.12408369]\n",
      " [0.86562249 0.13437751]\n",
      " [0.97508879 0.02491121]\n",
      " [0.8626513  0.1373487 ]\n",
      " [0.54036054 0.45963946]\n",
      " [0.9130228  0.0869772 ]\n",
      " [0.74609579 0.25390421]\n",
      " [0.86758146 0.13241854]\n",
      " [0.88852755 0.11147245]\n",
      " [0.87911718 0.12088282]\n",
      " [0.85664962 0.14335038]\n",
      " [0.77281956 0.22718044]\n",
      " [0.80713985 0.19286015]\n",
      " [0.85285505 0.14714495]\n",
      " [0.77595545 0.22404455]\n",
      " [0.70409846 0.29590154]\n",
      " [0.88971656 0.11028344]\n",
      " [0.48963063 0.51036937]\n",
      " [0.92370653 0.07629347]\n",
      " [0.75572308 0.24427692]\n",
      " [0.67788843 0.32211157]\n",
      " [0.91301004 0.08698996]\n",
      " [0.94029215 0.05970785]\n",
      " [0.88009791 0.11990209]\n",
      " [0.88591172 0.11408828]\n",
      " [0.9565683  0.0434317 ]\n",
      " [0.89909425 0.10090575]\n",
      " [0.9478465  0.0521535 ]\n",
      " [0.8325577  0.1674423 ]\n",
      " [0.87822142 0.12177858]\n",
      " [0.81945796 0.18054204]\n",
      " [0.81668783 0.18331217]\n",
      " [0.95036173 0.04963827]\n",
      " [0.86940139 0.13059861]\n",
      " [0.90541601 0.09458399]\n",
      " [0.8366119  0.1633881 ]\n",
      " [0.84583645 0.15416355]\n",
      " [0.79307976 0.20692024]\n",
      " [0.81808122 0.18191878]\n",
      " [0.81598406 0.18401594]\n",
      " [0.83677552 0.16322448]\n",
      " [0.91443035 0.08556965]\n",
      " [0.91533088 0.08466912]\n",
      " [0.68503439 0.31496561]\n",
      " [0.9907376  0.0092624 ]\n",
      " [0.76795003 0.23204997]\n",
      " [0.7987192  0.2012808 ]\n",
      " [0.73176828 0.26823172]\n",
      " [0.67465178 0.32534822]\n",
      " [0.79712454 0.20287546]\n",
      " [0.84935618 0.15064382]\n",
      " [0.86467083 0.13532917]\n",
      " [0.85844153 0.14155847]\n",
      " [0.84533265 0.15466735]\n",
      " [0.83038804 0.16961196]\n",
      " [0.92192757 0.07807243]\n",
      " [0.8318972  0.1681028 ]\n",
      " [0.97707554 0.02292446]\n",
      " [0.90418237 0.09581763]\n",
      " [0.92691204 0.07308796]\n",
      " [0.84797355 0.15202645]\n",
      " [0.7671257  0.2328743 ]\n",
      " [0.94895159 0.05104841]\n",
      " [0.9478209  0.0521791 ]\n",
      " [0.75181499 0.24818501]\n",
      " [0.87880469 0.12119531]\n",
      " [0.80770786 0.19229214]\n",
      " [0.93864303 0.06135697]\n",
      " [0.86008491 0.13991509]\n",
      " [0.76056687 0.23943313]\n",
      " [0.90892476 0.09107524]\n",
      " [0.75402141 0.24597859]\n",
      " [0.94271844 0.05728156]\n",
      " [0.91827321 0.08172679]\n",
      " [0.90545128 0.09454872]\n",
      " [0.76879452 0.23120548]\n",
      " [0.9235814  0.0764186 ]\n",
      " [0.80705876 0.19294124]\n",
      " [0.90079529 0.09920471]\n",
      " [0.87933334 0.12066666]\n",
      " [0.80585686 0.19414314]\n",
      " [0.83150052 0.16849948]\n",
      " [0.53816758 0.46183242]\n",
      " [0.95031827 0.04968173]\n",
      " [0.73291895 0.26708105]\n",
      " [0.8918287  0.1081713 ]\n",
      " [0.80079853 0.19920147]\n",
      " [0.87739806 0.12260194]\n",
      " [0.96805233 0.03194767]\n",
      " [0.81741597 0.18258403]\n",
      " [0.86150093 0.13849907]\n",
      " [0.59407543 0.40592457]\n",
      " [0.82625734 0.17374266]\n",
      " [0.9253498  0.0746502 ]\n",
      " [0.81692203 0.18307797]\n",
      " [0.92586785 0.07413215]\n",
      " [0.89094606 0.10905394]\n",
      " [0.70071746 0.29928254]\n",
      " [0.82181894 0.17818106]\n",
      " [0.96589943 0.03410057]\n",
      " [0.86996989 0.13003011]\n",
      " [0.89918552 0.10081448]\n",
      " [0.88983801 0.11016199]\n",
      " [0.81432459 0.18567541]\n",
      " [0.85830041 0.14169959]\n",
      " [0.83878656 0.16121344]\n",
      " [0.84056579 0.15943421]\n",
      " [0.82661173 0.17338827]\n",
      " [0.94075171 0.05924829]\n",
      " [0.83183534 0.16816466]\n",
      " [0.77561352 0.22438648]\n",
      " [0.69399535 0.30600465]\n",
      " [0.85962128 0.14037872]\n",
      " [0.82513943 0.17486057]\n",
      " [0.84107713 0.15892287]\n",
      " [0.87191017 0.12808983]\n",
      " [0.89447656 0.10552344]\n",
      " [0.82945345 0.17054655]\n",
      " [0.72856784 0.27143216]\n",
      " [0.94692823 0.05307177]\n",
      " [0.960743   0.039257  ]\n",
      " [0.90500199 0.09499801]\n",
      " [0.88599992 0.11400008]\n",
      " [0.84865643 0.15134357]\n",
      " [0.7908697  0.2091303 ]\n",
      " [0.67302959 0.32697041]\n",
      " [0.9339021  0.0660979 ]\n",
      " [0.65644875 0.34355125]\n",
      " [0.74382844 0.25617156]\n",
      " [0.94248417 0.05751583]\n",
      " [0.78365679 0.21634321]\n",
      " [0.90655674 0.09344326]\n",
      " [0.81578728 0.18421272]\n",
      " [0.89149737 0.10850263]\n",
      " [0.85791874 0.14208126]\n",
      " [0.67453849 0.32546151]\n",
      " [0.93130399 0.06869601]\n",
      " [0.89999986 0.10000014]]\n"
     ]
    }
   ],
   "source": [
    "probs = model2.predict_proba(X_test)\n",
    "print (probs)"
   ]
  },
  {
   "cell_type": "code",
   "execution_count": 153,
   "id": "13f609a6-8a2e-431a-aaf0-e7656f7f4f76",
   "metadata": {},
   "outputs": [
    {
     "name": "stdout",
     "output_type": "stream",
     "text": [
      "0.8435374149659864\n",
      "0.6502502887947632\n"
     ]
    }
   ],
   "source": [
    "from sklearn import metrics\n",
    "\n",
    "print (metrics.accuracy_score(y_test, predicted))\n",
    "print (metrics.roc_auc_score(y_test, probs[:,1]))"
   ]
  },
  {
   "cell_type": "code",
   "execution_count": 154,
   "id": "64221f29-1f09-4556-9ab0-0a87fb82c2ee",
   "metadata": {},
   "outputs": [
    {
     "name": "stdout",
     "output_type": "stream",
     "text": [
      "[[371   0]\n",
      " [ 69   1]]\n",
      "              precision    recall  f1-score   support\n",
      "\n",
      "         0.0       0.84      1.00      0.91       371\n",
      "         1.0       1.00      0.01      0.03        70\n",
      "\n",
      "    accuracy                           0.84       441\n",
      "   macro avg       0.92      0.51      0.47       441\n",
      "weighted avg       0.87      0.84      0.77       441\n",
      "\n"
     ]
    }
   ],
   "source": [
    "print (metrics.confusion_matrix(y_test, predicted))\n",
    "print (metrics.classification_report(y_test, predicted))"
   ]
  },
  {
   "cell_type": "code",
   "execution_count": 155,
   "id": "823d08e6-0885-4703-b94d-ea876cb7b3de",
   "metadata": {},
   "outputs": [
    {
     "name": "stdout",
     "output_type": "stream",
     "text": [
      "      Intercept   Age  Department  DistanceFromHome  Education  \\\n",
      "338         1.0  30.0         2.0               5.0        3.0   \n",
      "363         1.0  33.0         2.0               5.0        3.0   \n",
      "759         1.0  45.0         3.0              24.0        4.0   \n",
      "793         1.0  28.0         1.0              15.0        2.0   \n",
      "581         1.0  30.0         1.0               1.0        3.0   \n",
      "...         ...   ...         ...               ...        ...   \n",
      "763         1.0  34.0         2.0              10.0        4.0   \n",
      "835         1.0  35.0         3.0               8.0        4.0   \n",
      "1216        1.0  43.0         2.0               2.0        3.0   \n",
      "559         1.0  38.0         1.0               2.0        5.0   \n",
      "684         1.0  40.0         2.0              10.0        4.0   \n",
      "\n",
      "      EducationField  YearsAtCompany  \n",
      "338              3.0            10.0  \n",
      "363              3.0             1.0  \n",
      "759              2.0             6.0  \n",
      "793              1.0             4.0  \n",
      "581              1.0             2.0  \n",
      "...              ...             ...  \n",
      "763              1.0             1.0  \n",
      "835              5.0             5.0  \n",
      "1216             2.0            10.0  \n",
      "559              2.0             1.0  \n",
      "684              3.0             1.0  \n",
      "\n",
      "[1029 rows x 7 columns]\n"
     ]
    }
   ],
   "source": [
    "print (X_train)"
   ]
  },
  {
   "cell_type": "code",
   "execution_count": 164,
   "id": "94ca1d9c-ff86-4896-a51d-78e91c519c9f",
   "metadata": {},
   "outputs": [
    {
     "name": "stdout",
     "output_type": "stream",
     "text": [
      "[[6.25571824e-07 9.99999374e-01]]\n"
     ]
    },
    {
     "name": "stderr",
     "output_type": "stream",
     "text": [
      "C:\\Users\\HP\\anaconda3\\lib\\site-packages\\sklearn\\base.py:450: UserWarning: X does not have valid feature names, but LogisticRegression was fitted with feature names\n",
      "  warnings.warn(\n"
     ]
    }
   ],
   "source": [
    "\n",
    "gg=[[1.0, 23.0, 1.0, 500.0, 3.0, 24.0, 1.0]]\n",
    "print(model.predict_proba(gg))"
   ]
  },
  {
   "cell_type": "code",
   "execution_count": null,
   "id": "630c7683-24da-488c-a849-513e8119c90c",
   "metadata": {},
   "outputs": [],
   "source": []
  }
 ],
 "metadata": {
  "kernelspec": {
   "display_name": "Python 3 (ipykernel)",
   "language": "python",
   "name": "python3"
  },
  "language_info": {
   "codemirror_mode": {
    "name": "ipython",
    "version": 3
   },
   "file_extension": ".py",
   "mimetype": "text/x-python",
   "name": "python",
   "nbconvert_exporter": "python",
   "pygments_lexer": "ipython3",
   "version": "3.9.13"
  }
 },
 "nbformat": 4,
 "nbformat_minor": 5
}
